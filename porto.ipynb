{
  "cells": [
    {
      "cell_type": "code",
      "execution_count": 18,
      "metadata": {
        "colab": {
          "base_uri": "https://localhost:8080/"
        },
        "id": "EgEjxVHIxsKa",
        "outputId": "cbcb4777-6fc8-44bf-f92c-0164ba4f53a7"
      },
      "outputs": [],
      "source": [
        "import pandas as pd\n",
        "import numpy as np\n",
        "import matplotlib.pyplot as plt\n",
        "import seaborn as sns\n",
        "\n",
        "import re\n",
        "import nltk\n",
        "from nltk.corpus import stopwords\n",
        "from sklearn.feature_extraction.text import CountVectorizer\n",
        "from nltk.tokenize import RegexpTokenizer\n",
        "\n",
        "from sklearn.model_selection import train_test_split\n",
        "from sklearn.metrics import accuracy_score,classification_report\n",
        "from sklearn.naive_bayes import MultinomialNB"
      ]
    },
    {
      "cell_type": "code",
      "execution_count": 19,
      "metadata": {},
      "outputs": [],
      "source": [
        "import os "
      ]
    },
    {
      "cell_type": "code",
      "execution_count": 20,
      "metadata": {
        "colab": {
          "base_uri": "https://localhost:8080/",
          "height": 423
        },
        "id": "X7K0czcH0QJE",
        "outputId": "5d225127-cd33-4f79-af37-15824279bab9"
      },
      "outputs": [
        {
          "data": {
            "text/html": [
              "<div>\n",
              "<style scoped>\n",
              "    .dataframe tbody tr th:only-of-type {\n",
              "        vertical-align: middle;\n",
              "    }\n",
              "\n",
              "    .dataframe tbody tr th {\n",
              "        vertical-align: top;\n",
              "    }\n",
              "\n",
              "    .dataframe thead th {\n",
              "        text-align: right;\n",
              "    }\n",
              "</style>\n",
              "<table border=\"1\" class=\"dataframe\">\n",
              "  <thead>\n",
              "    <tr style=\"text-align: right;\">\n",
              "      <th></th>\n",
              "      <th>userName</th>\n",
              "      <th>content</th>\n",
              "      <th>score</th>\n",
              "      <th>at</th>\n",
              "      <th>appVersion</th>\n",
              "    </tr>\n",
              "  </thead>\n",
              "  <tbody>\n",
              "    <tr>\n",
              "      <th>0</th>\n",
              "      <td>Yuga Edit</td>\n",
              "      <td>akun gopay saya di blok</td>\n",
              "      <td>1</td>\n",
              "      <td>2022-01-21 10:52:12</td>\n",
              "      <td>4.9.3</td>\n",
              "    </tr>\n",
              "    <tr>\n",
              "      <th>1</th>\n",
              "      <td>ff burik</td>\n",
              "      <td>Lambat sekali sekarang ini bosssku apk gojek g...</td>\n",
              "      <td>3</td>\n",
              "      <td>2021-11-30 15:40:38</td>\n",
              "      <td>4.9.3</td>\n",
              "    </tr>\n",
              "    <tr>\n",
              "      <th>2</th>\n",
              "      <td>Anisa Suci Rahmayuliani</td>\n",
              "      <td>Kenapa sih dari kemarin sy buka aplikasi gojek...</td>\n",
              "      <td>4</td>\n",
              "      <td>2021-11-29 22:58:12</td>\n",
              "      <td>4.9.3</td>\n",
              "    </tr>\n",
              "    <tr>\n",
              "      <th>3</th>\n",
              "      <td>naoki yakuza</td>\n",
              "      <td>Baru download gojek dan hape baru trus ditop u...</td>\n",
              "      <td>1</td>\n",
              "      <td>2022-09-03 15:21:17</td>\n",
              "      <td>4.9.3</td>\n",
              "    </tr>\n",
              "    <tr>\n",
              "      <th>4</th>\n",
              "      <td>Trio Sugianto</td>\n",
              "      <td>Mantap</td>\n",
              "      <td>5</td>\n",
              "      <td>2022-01-15 10:05:27</td>\n",
              "      <td>4.9.3</td>\n",
              "    </tr>\n",
              "    <tr>\n",
              "      <th>...</th>\n",
              "      <td>...</td>\n",
              "      <td>...</td>\n",
              "      <td>...</td>\n",
              "      <td>...</td>\n",
              "      <td>...</td>\n",
              "    </tr>\n",
              "    <tr>\n",
              "      <th>224997</th>\n",
              "      <td>Sad Gamer</td>\n",
              "      <td>Gofood Biaya lain2ya gak ngotak mending hujan2...</td>\n",
              "      <td>1</td>\n",
              "      <td>2023-02-15 09:37:58</td>\n",
              "      <td>4.0.0</td>\n",
              "    </tr>\n",
              "    <tr>\n",
              "      <th>224998</th>\n",
              "      <td>fadhil fadil</td>\n",
              "      <td>Yok lah</td>\n",
              "      <td>5</td>\n",
              "      <td>2021-12-11 12:28:20</td>\n",
              "      <td>4.0.0</td>\n",
              "    </tr>\n",
              "    <tr>\n",
              "      <th>224999</th>\n",
              "      <td>g sugiarto</td>\n",
              "      <td>Sempurna</td>\n",
              "      <td>5</td>\n",
              "      <td>2022-03-14 01:45:39</td>\n",
              "      <td>4.0.0</td>\n",
              "    </tr>\n",
              "    <tr>\n",
              "      <th>225000</th>\n",
              "      <td>J i H A D 'B E</td>\n",
              "      <td>GOJEK LAMA LAMA GAK JELAS  LAGI PESEN MASA MAP...</td>\n",
              "      <td>1</td>\n",
              "      <td>2021-12-24 08:48:51</td>\n",
              "      <td>4.0.0</td>\n",
              "    </tr>\n",
              "    <tr>\n",
              "      <th>225001</th>\n",
              "      <td>Ria Heria</td>\n",
              "      <td>Good</td>\n",
              "      <td>5</td>\n",
              "      <td>2022-03-17 14:33:34</td>\n",
              "      <td>4.0.0</td>\n",
              "    </tr>\n",
              "  </tbody>\n",
              "</table>\n",
              "<p>225002 rows × 5 columns</p>\n",
              "</div>"
            ],
            "text/plain": [
              "                       userName  \\\n",
              "0                     Yuga Edit   \n",
              "1                      ff burik   \n",
              "2       Anisa Suci Rahmayuliani   \n",
              "3                  naoki yakuza   \n",
              "4                 Trio Sugianto   \n",
              "...                         ...   \n",
              "224997                Sad Gamer   \n",
              "224998             fadhil fadil   \n",
              "224999               g sugiarto   \n",
              "225000           J i H A D 'B E   \n",
              "225001                Ria Heria   \n",
              "\n",
              "                                                  content  score  \\\n",
              "0                                 akun gopay saya di blok      1   \n",
              "1       Lambat sekali sekarang ini bosssku apk gojek g...      3   \n",
              "2       Kenapa sih dari kemarin sy buka aplikasi gojek...      4   \n",
              "3       Baru download gojek dan hape baru trus ditop u...      1   \n",
              "4                                                  Mantap      5   \n",
              "...                                                   ...    ...   \n",
              "224997  Gofood Biaya lain2ya gak ngotak mending hujan2...      1   \n",
              "224998                                            Yok lah      5   \n",
              "224999                                           Sempurna      5   \n",
              "225000  GOJEK LAMA LAMA GAK JELAS  LAGI PESEN MASA MAP...      1   \n",
              "225001                                               Good      5   \n",
              "\n",
              "                         at appVersion  \n",
              "0       2022-01-21 10:52:12      4.9.3  \n",
              "1       2021-11-30 15:40:38      4.9.3  \n",
              "2       2021-11-29 22:58:12      4.9.3  \n",
              "3       2022-09-03 15:21:17      4.9.3  \n",
              "4       2022-01-15 10:05:27      4.9.3  \n",
              "...                     ...        ...  \n",
              "224997  2023-02-15 09:37:58      4.0.0  \n",
              "224998  2021-12-11 12:28:20      4.0.0  \n",
              "224999  2022-03-14 01:45:39      4.0.0  \n",
              "225000  2021-12-24 08:48:51      4.0.0  \n",
              "225001  2022-03-17 14:33:34      4.0.0  \n",
              "\n",
              "[225002 rows x 5 columns]"
            ]
          },
          "execution_count": 20,
          "metadata": {},
          "output_type": "execute_result"
        }
      ],
      "source": [
        "data = pd.read_csv('C:\\\\Users\\\\Naura Rania\\\\Desktop\\\\coba\\\\Gojek.csv')\n",
        "data"
      ]
    },
    {
      "cell_type": "markdown",
      "metadata": {
        "id": "QsQAH-iI4l8T"
      },
      "source": [
        "# 1. Data Understanding"
      ]
    },
    {
      "cell_type": "code",
      "execution_count": 21,
      "metadata": {
        "colab": {
          "base_uri": "https://localhost:8080/"
        },
        "id": "vDZWVu5O4xe8",
        "outputId": "243fd6fe-c729-44f3-b48e-44a75c84ae05"
      },
      "outputs": [
        {
          "data": {
            "text/plain": [
              "userName      object\n",
              "content       object\n",
              "score          int64\n",
              "at            object\n",
              "appVersion    object\n",
              "dtype: object"
            ]
          },
          "execution_count": 21,
          "metadata": {},
          "output_type": "execute_result"
        }
      ],
      "source": [
        "data.dtypes"
      ]
    },
    {
      "cell_type": "code",
      "execution_count": 22,
      "metadata": {
        "colab": {
          "base_uri": "https://localhost:8080/"
        },
        "id": "OVO-nuQX5DtR",
        "outputId": "8ff6429f-87e3-48fb-a634-064726942933"
      },
      "outputs": [
        {
          "data": {
            "text/plain": [
              "(225002, 5)"
            ]
          },
          "execution_count": 22,
          "metadata": {},
          "output_type": "execute_result"
        }
      ],
      "source": [
        "data.shape"
      ]
    },
    {
      "cell_type": "code",
      "execution_count": 23,
      "metadata": {
        "colab": {
          "base_uri": "https://localhost:8080/"
        },
        "id": "vyZrpBG75MOT",
        "outputId": "ab051474-4022-4ce4-d659-800c5a916caa"
      },
      "outputs": [
        {
          "data": {
            "text/plain": [
              "userName      0\n",
              "content       0\n",
              "score         0\n",
              "at            0\n",
              "appVersion    0\n",
              "dtype: int64"
            ]
          },
          "execution_count": 23,
          "metadata": {},
          "output_type": "execute_result"
        }
      ],
      "source": [
        "data = data.dropna()\n",
        "data.isnull().sum()"
      ]
    },
    {
      "cell_type": "code",
      "execution_count": 24,
      "metadata": {
        "colab": {
          "base_uri": "https://localhost:8080/"
        },
        "id": "F_x7sd-Y5kZt",
        "outputId": "902ce19a-eec1-4e5d-8b3f-88071642622b"
      },
      "outputs": [
        {
          "data": {
            "text/plain": [
              "0"
            ]
          },
          "execution_count": 24,
          "metadata": {},
          "output_type": "execute_result"
        }
      ],
      "source": [
        "data.duplicated().sum()"
      ]
    },
    {
      "cell_type": "code",
      "execution_count": 25,
      "metadata": {
        "colab": {
          "base_uri": "https://localhost:8080/",
          "height": 175
        },
        "id": "SwFKoyul5te-",
        "outputId": "eea4a61c-a248-4559-fc3f-0fe76cdd3240"
      },
      "outputs": [
        {
          "data": {
            "text/html": [
              "<div>\n",
              "<style scoped>\n",
              "    .dataframe tbody tr th:only-of-type {\n",
              "        vertical-align: middle;\n",
              "    }\n",
              "\n",
              "    .dataframe tbody tr th {\n",
              "        vertical-align: top;\n",
              "    }\n",
              "\n",
              "    .dataframe thead th {\n",
              "        text-align: right;\n",
              "    }\n",
              "</style>\n",
              "<table border=\"1\" class=\"dataframe\">\n",
              "  <thead>\n",
              "    <tr style=\"text-align: right;\">\n",
              "      <th></th>\n",
              "      <th>score</th>\n",
              "    </tr>\n",
              "  </thead>\n",
              "  <tbody>\n",
              "    <tr>\n",
              "      <th>count</th>\n",
              "      <td>225000.000000</td>\n",
              "    </tr>\n",
              "    <tr>\n",
              "      <th>mean</th>\n",
              "      <td>3.928991</td>\n",
              "    </tr>\n",
              "    <tr>\n",
              "      <th>std</th>\n",
              "      <td>1.630557</td>\n",
              "    </tr>\n",
              "    <tr>\n",
              "      <th>min</th>\n",
              "      <td>1.000000</td>\n",
              "    </tr>\n",
              "    <tr>\n",
              "      <th>25%</th>\n",
              "      <td>3.000000</td>\n",
              "    </tr>\n",
              "    <tr>\n",
              "      <th>50%</th>\n",
              "      <td>5.000000</td>\n",
              "    </tr>\n",
              "    <tr>\n",
              "      <th>75%</th>\n",
              "      <td>5.000000</td>\n",
              "    </tr>\n",
              "    <tr>\n",
              "      <th>max</th>\n",
              "      <td>5.000000</td>\n",
              "    </tr>\n",
              "  </tbody>\n",
              "</table>\n",
              "</div>"
            ],
            "text/plain": [
              "               score\n",
              "count  225000.000000\n",
              "mean        3.928991\n",
              "std         1.630557\n",
              "min         1.000000\n",
              "25%         3.000000\n",
              "50%         5.000000\n",
              "75%         5.000000\n",
              "max         5.000000"
            ]
          },
          "execution_count": 25,
          "metadata": {},
          "output_type": "execute_result"
        }
      ],
      "source": [
        "data.describe()"
      ]
    },
    {
      "cell_type": "markdown",
      "metadata": {
        "id": "rBVDfXV06A8l"
      },
      "source": [
        "# 2. Prepocessing Text"
      ]
    },
    {
      "cell_type": "code",
      "execution_count": 26,
      "metadata": {
        "colab": {
          "base_uri": "https://localhost:8080/",
          "height": 206
        },
        "id": "ICgz663M6G_4",
        "outputId": "a4a3ccdb-24ff-4744-8a3d-e557a38a6c82"
      },
      "outputs": [
        {
          "data": {
            "text/html": [
              "<div>\n",
              "<style scoped>\n",
              "    .dataframe tbody tr th:only-of-type {\n",
              "        vertical-align: middle;\n",
              "    }\n",
              "\n",
              "    .dataframe tbody tr th {\n",
              "        vertical-align: top;\n",
              "    }\n",
              "\n",
              "    .dataframe thead th {\n",
              "        text-align: right;\n",
              "    }\n",
              "</style>\n",
              "<table border=\"1\" class=\"dataframe\">\n",
              "  <thead>\n",
              "    <tr style=\"text-align: right;\">\n",
              "      <th></th>\n",
              "      <th>userName</th>\n",
              "      <th>content</th>\n",
              "      <th>score</th>\n",
              "      <th>at</th>\n",
              "      <th>appVersion</th>\n",
              "    </tr>\n",
              "  </thead>\n",
              "  <tbody>\n",
              "    <tr>\n",
              "      <th>0</th>\n",
              "      <td>Yuga Edit</td>\n",
              "      <td>akun gopay saya di blok</td>\n",
              "      <td>1</td>\n",
              "      <td>2022-01-21 10:52:12</td>\n",
              "      <td>4.9.3</td>\n",
              "    </tr>\n",
              "    <tr>\n",
              "      <th>1</th>\n",
              "      <td>ff burik</td>\n",
              "      <td>Lambat sekali sekarang ini bosssku apk gojek g...</td>\n",
              "      <td>3</td>\n",
              "      <td>2021-11-30 15:40:38</td>\n",
              "      <td>4.9.3</td>\n",
              "    </tr>\n",
              "    <tr>\n",
              "      <th>2</th>\n",
              "      <td>Anisa Suci Rahmayuliani</td>\n",
              "      <td>Kenapa sih dari kemarin sy buka aplikasi gojek...</td>\n",
              "      <td>4</td>\n",
              "      <td>2021-11-29 22:58:12</td>\n",
              "      <td>4.9.3</td>\n",
              "    </tr>\n",
              "    <tr>\n",
              "      <th>3</th>\n",
              "      <td>naoki yakuza</td>\n",
              "      <td>Baru download gojek dan hape baru trus ditop u...</td>\n",
              "      <td>1</td>\n",
              "      <td>2022-09-03 15:21:17</td>\n",
              "      <td>4.9.3</td>\n",
              "    </tr>\n",
              "    <tr>\n",
              "      <th>4</th>\n",
              "      <td>Trio Sugianto</td>\n",
              "      <td>Mantap</td>\n",
              "      <td>5</td>\n",
              "      <td>2022-01-15 10:05:27</td>\n",
              "      <td>4.9.3</td>\n",
              "    </tr>\n",
              "  </tbody>\n",
              "</table>\n",
              "</div>"
            ],
            "text/plain": [
              "                  userName                                            content  \\\n",
              "0                Yuga Edit                            akun gopay saya di blok   \n",
              "1                 ff burik  Lambat sekali sekarang ini bosssku apk gojek g...   \n",
              "2  Anisa Suci Rahmayuliani  Kenapa sih dari kemarin sy buka aplikasi gojek...   \n",
              "3             naoki yakuza  Baru download gojek dan hape baru trus ditop u...   \n",
              "4            Trio Sugianto                                             Mantap   \n",
              "\n",
              "   score                   at appVersion  \n",
              "0      1  2022-01-21 10:52:12      4.9.3  \n",
              "1      3  2021-11-30 15:40:38      4.9.3  \n",
              "2      4  2021-11-29 22:58:12      4.9.3  \n",
              "3      1  2022-09-03 15:21:17      4.9.3  \n",
              "4      5  2022-01-15 10:05:27      4.9.3  "
            ]
          },
          "execution_count": 26,
          "metadata": {},
          "output_type": "execute_result"
        }
      ],
      "source": [
        "data.head()"
      ]
    },
    {
      "cell_type": "code",
      "execution_count": 27,
      "metadata": {},
      "outputs": [
        {
          "data": {
            "text/html": [
              "<div>\n",
              "<style scoped>\n",
              "    .dataframe tbody tr th:only-of-type {\n",
              "        vertical-align: middle;\n",
              "    }\n",
              "\n",
              "    .dataframe tbody tr th {\n",
              "        vertical-align: top;\n",
              "    }\n",
              "\n",
              "    .dataframe thead th {\n",
              "        text-align: right;\n",
              "    }\n",
              "</style>\n",
              "<table border=\"1\" class=\"dataframe\">\n",
              "  <thead>\n",
              "    <tr style=\"text-align: right;\">\n",
              "      <th></th>\n",
              "      <th>userName</th>\n",
              "      <th>content</th>\n",
              "      <th>score</th>\n",
              "      <th>at</th>\n",
              "      <th>appVersion</th>\n",
              "    </tr>\n",
              "  </thead>\n",
              "  <tbody>\n",
              "    <tr>\n",
              "      <th>0</th>\n",
              "      <td>Yuga Edit</td>\n",
              "      <td>akun gopay saya di blok</td>\n",
              "      <td>1</td>\n",
              "      <td>2022-01-21 10:52:12</td>\n",
              "      <td>4.9.3</td>\n",
              "    </tr>\n",
              "    <tr>\n",
              "      <th>1</th>\n",
              "      <td>ff burik</td>\n",
              "      <td>Lambat sekali sekarang ini bosssku apk gojek g...</td>\n",
              "      <td>3</td>\n",
              "      <td>2021-11-30 15:40:38</td>\n",
              "      <td>4.9.3</td>\n",
              "    </tr>\n",
              "    <tr>\n",
              "      <th>2</th>\n",
              "      <td>Anisa Suci Rahmayuliani</td>\n",
              "      <td>Kenapa sih dari kemarin sy buka aplikasi gojek...</td>\n",
              "      <td>4</td>\n",
              "      <td>2021-11-29 22:58:12</td>\n",
              "      <td>4.9.3</td>\n",
              "    </tr>\n",
              "    <tr>\n",
              "      <th>3</th>\n",
              "      <td>naoki yakuza</td>\n",
              "      <td>Baru download gojek dan hape baru trus ditop u...</td>\n",
              "      <td>1</td>\n",
              "      <td>2022-09-03 15:21:17</td>\n",
              "      <td>4.9.3</td>\n",
              "    </tr>\n",
              "    <tr>\n",
              "      <th>4</th>\n",
              "      <td>Trio Sugianto</td>\n",
              "      <td>Mantap</td>\n",
              "      <td>5</td>\n",
              "      <td>2022-01-15 10:05:27</td>\n",
              "      <td>4.9.3</td>\n",
              "    </tr>\n",
              "    <tr>\n",
              "      <th>...</th>\n",
              "      <td>...</td>\n",
              "      <td>...</td>\n",
              "      <td>...</td>\n",
              "      <td>...</td>\n",
              "      <td>...</td>\n",
              "    </tr>\n",
              "    <tr>\n",
              "      <th>49997</th>\n",
              "      <td>Aditia Amri</td>\n",
              "      <td>Saya rubah dulu ratingnya karena setiap kali s...</td>\n",
              "      <td>1</td>\n",
              "      <td>2023-04-04 22:12:41</td>\n",
              "      <td>4.64.2</td>\n",
              "    </tr>\n",
              "    <tr>\n",
              "      <th>49998</th>\n",
              "      <td>Titin Prihani</td>\n",
              "      <td>Suka dengan ketepatan waktu dan kondisi barang...</td>\n",
              "      <td>5</td>\n",
              "      <td>2023-04-04 11:29:16</td>\n",
              "      <td>4.64.2</td>\n",
              "    </tr>\n",
              "    <tr>\n",
              "      <th>49999</th>\n",
              "      <td>Susianti</td>\n",
              "      <td>rada kecewa sama pembaruan yg sekarang Saya bi...</td>\n",
              "      <td>2</td>\n",
              "      <td>2023-04-05 13:54:23</td>\n",
              "      <td>4.64.2</td>\n",
              "    </tr>\n",
              "    <tr>\n",
              "      <th>50000</th>\n",
              "      <td>Kep Kep</td>\n",
              "      <td>Semoga saling membantu</td>\n",
              "      <td>5</td>\n",
              "      <td>2023-04-04 22:43:45</td>\n",
              "      <td>4.64.2</td>\n",
              "    </tr>\n",
              "    <tr>\n",
              "      <th>50001</th>\n",
              "      <td>Desi PS - Athariandi R</td>\n",
              "      <td>mudah dan tarif sesuai budget</td>\n",
              "      <td>5</td>\n",
              "      <td>2023-04-05 13:25:38</td>\n",
              "      <td>4.64.2</td>\n",
              "    </tr>\n",
              "  </tbody>\n",
              "</table>\n",
              "<p>50002 rows × 5 columns</p>\n",
              "</div>"
            ],
            "text/plain": [
              "                      userName  \\\n",
              "0                    Yuga Edit   \n",
              "1                     ff burik   \n",
              "2      Anisa Suci Rahmayuliani   \n",
              "3                 naoki yakuza   \n",
              "4                Trio Sugianto   \n",
              "...                        ...   \n",
              "49997              Aditia Amri   \n",
              "49998            Titin Prihani   \n",
              "49999                 Susianti   \n",
              "50000                  Kep Kep   \n",
              "50001   Desi PS - Athariandi R   \n",
              "\n",
              "                                                 content  score  \\\n",
              "0                                akun gopay saya di blok      1   \n",
              "1      Lambat sekali sekarang ini bosssku apk gojek g...      3   \n",
              "2      Kenapa sih dari kemarin sy buka aplikasi gojek...      4   \n",
              "3      Baru download gojek dan hape baru trus ditop u...      1   \n",
              "4                                                 Mantap      5   \n",
              "...                                                  ...    ...   \n",
              "49997  Saya rubah dulu ratingnya karena setiap kali s...      1   \n",
              "49998  Suka dengan ketepatan waktu dan kondisi barang...      5   \n",
              "49999  rada kecewa sama pembaruan yg sekarang Saya bi...      2   \n",
              "50000                             Semoga saling membantu      5   \n",
              "50001                      mudah dan tarif sesuai budget      5   \n",
              "\n",
              "                        at appVersion  \n",
              "0      2022-01-21 10:52:12      4.9.3  \n",
              "1      2021-11-30 15:40:38      4.9.3  \n",
              "2      2021-11-29 22:58:12      4.9.3  \n",
              "3      2022-09-03 15:21:17      4.9.3  \n",
              "4      2022-01-15 10:05:27      4.9.3  \n",
              "...                    ...        ...  \n",
              "49997  2023-04-04 22:12:41     4.64.2  \n",
              "49998  2023-04-04 11:29:16     4.64.2  \n",
              "49999  2023-04-05 13:54:23     4.64.2  \n",
              "50000  2023-04-04 22:43:45     4.64.2  \n",
              "50001  2023-04-05 13:25:38     4.64.2  \n",
              "\n",
              "[50002 rows x 5 columns]"
            ]
          },
          "execution_count": 27,
          "metadata": {},
          "output_type": "execute_result"
        }
      ],
      "source": [
        "data = data.loc[0:50001]\n",
        "data"
      ]
    },
    {
      "cell_type": "code",
      "execution_count": 28,
      "metadata": {
        "colab": {
          "base_uri": "https://localhost:8080/",
          "height": 206
        },
        "id": "qFJCEl1b6PDs",
        "outputId": "03cd1acc-709b-4194-ac11-048969ce174d"
      },
      "outputs": [
        {
          "data": {
            "text/html": [
              "<div>\n",
              "<style scoped>\n",
              "    .dataframe tbody tr th:only-of-type {\n",
              "        vertical-align: middle;\n",
              "    }\n",
              "\n",
              "    .dataframe tbody tr th {\n",
              "        vertical-align: top;\n",
              "    }\n",
              "\n",
              "    .dataframe thead th {\n",
              "        text-align: right;\n",
              "    }\n",
              "</style>\n",
              "<table border=\"1\" class=\"dataframe\">\n",
              "  <thead>\n",
              "    <tr style=\"text-align: right;\">\n",
              "      <th></th>\n",
              "      <th>content</th>\n",
              "      <th>score</th>\n",
              "    </tr>\n",
              "  </thead>\n",
              "  <tbody>\n",
              "    <tr>\n",
              "      <th>0</th>\n",
              "      <td>akun gopay saya di blok</td>\n",
              "      <td>1</td>\n",
              "    </tr>\n",
              "    <tr>\n",
              "      <th>1</th>\n",
              "      <td>Lambat sekali sekarang ini bosssku apk gojek g...</td>\n",
              "      <td>3</td>\n",
              "    </tr>\n",
              "    <tr>\n",
              "      <th>2</th>\n",
              "      <td>Kenapa sih dari kemarin sy buka aplikasi gojek...</td>\n",
              "      <td>4</td>\n",
              "    </tr>\n",
              "    <tr>\n",
              "      <th>3</th>\n",
              "      <td>Baru download gojek dan hape baru trus ditop u...</td>\n",
              "      <td>1</td>\n",
              "    </tr>\n",
              "    <tr>\n",
              "      <th>4</th>\n",
              "      <td>Mantap</td>\n",
              "      <td>5</td>\n",
              "    </tr>\n",
              "  </tbody>\n",
              "</table>\n",
              "</div>"
            ],
            "text/plain": [
              "                                             content  score\n",
              "0                            akun gopay saya di blok      1\n",
              "1  Lambat sekali sekarang ini bosssku apk gojek g...      3\n",
              "2  Kenapa sih dari kemarin sy buka aplikasi gojek...      4\n",
              "3  Baru download gojek dan hape baru trus ditop u...      1\n",
              "4                                             Mantap      5"
            ]
          },
          "execution_count": 28,
          "metadata": {},
          "output_type": "execute_result"
        }
      ],
      "source": [
        "data = data.drop(columns=['userName',\"at\",\"appVersion\"],axis=1)\n",
        "data.head()"
      ]
    },
    {
      "cell_type": "code",
      "execution_count": 29,
      "metadata": {},
      "outputs": [
        {
          "data": {
            "text/plain": [
              "'Makin lama gojek makin ngga jelas susah bgt dapet driver buat gofood ongkirnya juga mahal bgt Mohon diperbaiki'"
            ]
          },
          "execution_count": 29,
          "metadata": {},
          "output_type": "execute_result"
        }
      ],
      "source": [
        "data['content'].iloc[11]"
      ]
    },
    {
      "cell_type": "code",
      "execution_count": 30,
      "metadata": {
        "colab": {
          "base_uri": "https://localhost:8080/",
          "height": 165
        },
        "id": "jOoiPydjCO7Z",
        "outputId": "e44ece9b-6549-4aac-fe64-bf5bc7f7fa4f"
      },
      "outputs": [
        {
          "data": {
            "text/plain": [
              "'Mantap'"
            ]
          },
          "execution_count": 30,
          "metadata": {},
          "output_type": "execute_result"
        }
      ],
      "source": [
        "data['content'] = data['content'].str.replace(r'\\s+', ' ', regex=True).str.strip()\n",
        "data['content'].iloc[4]"
      ]
    },
    {
      "cell_type": "code",
      "execution_count": 31,
      "metadata": {
        "id": "m7NoALhH7d5w"
      },
      "outputs": [],
      "source": [
        "# Normalisasi\n",
        "norm = {\"apk\":\"aplikasi\",\"gk\":\"tidak\",\"bgt\":\"banget\",\"hape\":\"handphone\",\"trus\":\"terus\",\"sy\":\"saya\",\"Tq\":\"terimakasih\",\"blom\":\"belom\", \"plg\":\"paling\", \"j \":\"juga\", \"ngaco\":\"sembarangan\", \"dgn\":\"dengan\", \"gue\":\"saya\",  \"kwalitas\":\"kualitas\", \"aing\":\"aku\", \"tehnologi\":\"teknologi\", \"duid\":\"uang\", \"jd\":\"jadi\", \"msih\":\"masih\", \"bgsd\":\"bangsat\", \"chas\":\"cas\", \"kendara\":\"kendaraan\", \"krg\":\"kurang\", \"dn\":\"dan\", \"udh\":\"udah\", \"mnrt\":\"menurut\", \"dl\":\"dulu\", \"sblm\":\"sebelum\", \"kyknya\":\"sepertinya\", \"tidak\":\"ngk\"}\n",
        "\n",
        "def normalisasi(str_text):\n",
        "  for i in norm:\n",
        "    str_text = str_text.replace(i, norm[i])\n",
        "  return str_text\n",
        "\n",
        "data['content'] = data['content'].apply(lambda x: normalisasi(x))"
      ]
    },
    {
      "cell_type": "code",
      "execution_count": 32,
      "metadata": {
        "colab": {
          "base_uri": "https://localhost:8080/",
          "height": 55
        },
        "id": "XdAdIooDFWZb",
        "outputId": "8eb8937b-6bb8-4951-b6da-3b182530e77c"
      },
      "outputs": [
        {
          "data": {
            "text/plain": [
              "0                               akun gopay saya di blok\n",
              "1     Lambat sekali sekarang ini bosssku aplikasi go...\n",
              "2     Kenapa sih dari kemarin saya buka aplikasi goj...\n",
              "3     Baru download gojek dan handphone baru terus d...\n",
              "4                                                Mantap\n",
              "5                                                 Bagus\n",
              "6                                             Coba dulu\n",
              "7                                                    Ok\n",
              "8     Gimana ini kak pin saya salah terus padahal ud...\n",
              "9     Biar aman kamu ngk bisa pakai gojek Jadi saya ...\n",
              "10                               Kumpulan driver sampah\n",
              "11    Makin lama gojek makin ngga jelas susah banget...\n",
              "12                                            Ok mantap\n",
              "13                                           Verry Good\n",
              "14    Aplikasi asuuu makin lama main gx jelas Ais hr...\n",
              "15    Misi dari gojek jago gak jelas sayaarat penyel...\n",
              "16    Untuk sekarang aplikasi nya good job dan banya...\n",
              "17                                               Mantap\n",
              "18                                   Pelayanannya bagus\n",
              "19                                            Gak jelas\n",
              "20                                       Baik dan bagus\n",
              "21    Sekarang go food ngga pernah ada promo onngkir...\n",
              "22    Gojek akhir2 ini ngeselin driverny suka cancel...\n",
              "23                        Bintang 1 ngikut yg lain hhhh\n",
              "24                                                   Ok\n",
              "25                                          Awesome Fun\n",
              "26                  Bagus banget sumpahh wajib download\n",
              "27                                                 Nice\n",
              "28                                 Kebanyakan pembaruan\n",
              "29    setelah mluncur aplikasi shopeefood gofood jad...\n",
              "30                                                  Oke\n",
              "31                                       Good Bintang 5\n",
              "32                          Lokasi harus cepat diupdate\n",
              "33                                            Gojek oke\n",
              "34    Payah jarang ada voucher semenjak bukan pak na...\n",
              "35                                                Bagus\n",
              "36                                                Bagus\n",
              "37                                                   Ok\n",
              "38    Terus tinngkatkan layanan gojek banyakin promo...\n",
              "39                                                Bagus\n",
              "40    Banyak maling dari driver gosend kurir sialan ...\n",
              "41                                                 Baik\n",
              "42                                                Bagus\n",
              "43    Driver untuk area malang tolong di tambah musi...\n",
              "44                                   Bagus banyak promo\n",
              "45    Ini aplikasi knp Masa pakai kuota data gak bis...\n",
              "46                                                   ok\n",
              "47                 Gojek sangat membantu aktifitas kami\n",
              "48                                                 Baik\n",
              "49                              Bebas macet pakai Gojek\n",
              "50                           Baguss sekali aplikasi ini\n",
              "Name: content, dtype: object"
            ]
          },
          "execution_count": 32,
          "metadata": {},
          "output_type": "execute_result"
        }
      ],
      "source": [
        "data['content'].loc[0:50]"
      ]
    },
    {
      "cell_type": "code",
      "execution_count": 33,
      "metadata": {},
      "outputs": [],
      "source": [
        "import pandas as pd\n",
        "import numpy as np\n",
        "import joblib\n",
        "import Sastrawi\n",
        "from Sastrawi.StopWordRemover.StopWordRemoverFactory import StopWordRemoverFactory\n",
        "from Sastrawi.Stemmer.StemmerFactory import StemmerFactory\n",
        "import os\n",
        "import re\n",
        "\n",
        "def wardrop(text):\n",
        "\n",
        "    text = text.lower()\n",
        "\n",
        "    url_pattern = re.compile(r'\\b(?:https?|ftp|file):\\/\\/[-A-Z0-9+&@#\\/%?=~_|!:,.;]*[-A-Z0-9+&@#\\/%=~_|]|\\bwww\\.[-A-Z0-9+&@#\\/%?=~_|!:,.;]*[-A-Z0-9+&@#\\/%=~_|]', re.IGNORECASE)\n",
        "    text = re.sub(url_pattern, '', text)\n",
        "\n",
        "    html_tag_pattern = re.compile(r'<[^>]+>')\n",
        "    text = re.sub(html_tag_pattern, '', text)\n",
        "\n",
        "    text = re.sub(r'[^\\w\\s]', '', text)\n",
        "    text = re.sub(r'\\d', '', text)\n",
        "    text = re.sub(r'\\n', ' ', text)\n",
        "\n",
        "    extra_spaces_pattern = re.compile(r'\\s+')\n",
        "    text = re.sub(extra_spaces_pattern, ' ', text)\n",
        "\n",
        "    return text\n",
        "\n",
        "def sastrawi(text):\n",
        "    # Membuat instance dari StopWordRemover\n",
        "    factory = StopWordRemoverFactory()\n",
        "    stopword_remover = factory.create_stop_word_remover()\n",
        "\n",
        "    # Menghapus stopword dari teks\n",
        "    text = stopword_remover.remove(text)\n",
        "\n",
        "    factory = StemmerFactory()\n",
        "    stemmer = factory.create_stemmer()\n",
        "\n",
        "    # Melakukan stemming pada teks\n",
        "    text = stemmer.stem(text)\n",
        "\n",
        "    return text"
      ]
    },
    {
      "cell_type": "code",
      "execution_count": 34,
      "metadata": {},
      "outputs": [],
      "source": [
        "data['content'] = data['content'].apply(wardrop)"
      ]
    },
    {
      "cell_type": "code",
      "execution_count": 35,
      "metadata": {},
      "outputs": [
        {
          "ename": "KeyboardInterrupt",
          "evalue": "",
          "output_type": "error",
          "traceback": [
            "\u001b[1;31m---------------------------------------------------------------------------\u001b[0m",
            "\u001b[1;31mKeyboardInterrupt\u001b[0m                         Traceback (most recent call last)",
            "Cell \u001b[1;32mIn[35], line 1\u001b[0m\n\u001b[1;32m----> 1\u001b[0m data[\u001b[38;5;124m'\u001b[39m\u001b[38;5;124mcontent\u001b[39m\u001b[38;5;124m'\u001b[39m] \u001b[38;5;241m=\u001b[39m data[\u001b[38;5;124m'\u001b[39m\u001b[38;5;124mcontent\u001b[39m\u001b[38;5;124m'\u001b[39m]\u001b[38;5;241m.\u001b[39mapply(sastrawi)\n",
            "File \u001b[1;32mc:\\Users\\Naura Rania\\anaconda3\\Lib\\site-packages\\pandas\\core\\series.py:4764\u001b[0m, in \u001b[0;36mSeries.apply\u001b[1;34m(self, func, convert_dtype, args, by_row, **kwargs)\u001b[0m\n\u001b[0;32m   4629\u001b[0m \u001b[38;5;28;01mdef\u001b[39;00m \u001b[38;5;21mapply\u001b[39m(\n\u001b[0;32m   4630\u001b[0m     \u001b[38;5;28mself\u001b[39m,\n\u001b[0;32m   4631\u001b[0m     func: AggFuncType,\n\u001b[1;32m   (...)\u001b[0m\n\u001b[0;32m   4636\u001b[0m     \u001b[38;5;241m*\u001b[39m\u001b[38;5;241m*\u001b[39mkwargs,\n\u001b[0;32m   4637\u001b[0m ) \u001b[38;5;241m-\u001b[39m\u001b[38;5;241m>\u001b[39m DataFrame \u001b[38;5;241m|\u001b[39m Series:\n\u001b[0;32m   4638\u001b[0m \u001b[38;5;250m    \u001b[39m\u001b[38;5;124;03m\"\"\"\u001b[39;00m\n\u001b[0;32m   4639\u001b[0m \u001b[38;5;124;03m    Invoke function on values of Series.\u001b[39;00m\n\u001b[0;32m   4640\u001b[0m \n\u001b[1;32m   (...)\u001b[0m\n\u001b[0;32m   4755\u001b[0m \u001b[38;5;124;03m    dtype: float64\u001b[39;00m\n\u001b[0;32m   4756\u001b[0m \u001b[38;5;124;03m    \"\"\"\u001b[39;00m\n\u001b[0;32m   4757\u001b[0m     \u001b[38;5;28;01mreturn\u001b[39;00m SeriesApply(\n\u001b[0;32m   4758\u001b[0m         \u001b[38;5;28mself\u001b[39m,\n\u001b[0;32m   4759\u001b[0m         func,\n\u001b[0;32m   4760\u001b[0m         convert_dtype\u001b[38;5;241m=\u001b[39mconvert_dtype,\n\u001b[0;32m   4761\u001b[0m         by_row\u001b[38;5;241m=\u001b[39mby_row,\n\u001b[0;32m   4762\u001b[0m         args\u001b[38;5;241m=\u001b[39margs,\n\u001b[0;32m   4763\u001b[0m         kwargs\u001b[38;5;241m=\u001b[39mkwargs,\n\u001b[1;32m-> 4764\u001b[0m     )\u001b[38;5;241m.\u001b[39mapply()\n",
            "File \u001b[1;32mc:\\Users\\Naura Rania\\anaconda3\\Lib\\site-packages\\pandas\\core\\apply.py:1209\u001b[0m, in \u001b[0;36mSeriesApply.apply\u001b[1;34m(self)\u001b[0m\n\u001b[0;32m   1206\u001b[0m     \u001b[38;5;28;01mreturn\u001b[39;00m \u001b[38;5;28mself\u001b[39m\u001b[38;5;241m.\u001b[39mapply_compat()\n\u001b[0;32m   1208\u001b[0m \u001b[38;5;66;03m# self.func is Callable\u001b[39;00m\n\u001b[1;32m-> 1209\u001b[0m \u001b[38;5;28;01mreturn\u001b[39;00m \u001b[38;5;28mself\u001b[39m\u001b[38;5;241m.\u001b[39mapply_standard()\n",
            "File \u001b[1;32mc:\\Users\\Naura Rania\\anaconda3\\Lib\\site-packages\\pandas\\core\\apply.py:1289\u001b[0m, in \u001b[0;36mSeriesApply.apply_standard\u001b[1;34m(self)\u001b[0m\n\u001b[0;32m   1283\u001b[0m \u001b[38;5;66;03m# row-wise access\u001b[39;00m\n\u001b[0;32m   1284\u001b[0m \u001b[38;5;66;03m# apply doesn't have a `na_action` keyword and for backward compat reasons\u001b[39;00m\n\u001b[0;32m   1285\u001b[0m \u001b[38;5;66;03m# we need to give `na_action=\"ignore\"` for categorical data.\u001b[39;00m\n\u001b[0;32m   1286\u001b[0m \u001b[38;5;66;03m# TODO: remove the `na_action=\"ignore\"` when that default has been changed in\u001b[39;00m\n\u001b[0;32m   1287\u001b[0m \u001b[38;5;66;03m#  Categorical (GH51645).\u001b[39;00m\n\u001b[0;32m   1288\u001b[0m action \u001b[38;5;241m=\u001b[39m \u001b[38;5;124m\"\u001b[39m\u001b[38;5;124mignore\u001b[39m\u001b[38;5;124m\"\u001b[39m \u001b[38;5;28;01mif\u001b[39;00m \u001b[38;5;28misinstance\u001b[39m(obj\u001b[38;5;241m.\u001b[39mdtype, CategoricalDtype) \u001b[38;5;28;01melse\u001b[39;00m \u001b[38;5;28;01mNone\u001b[39;00m\n\u001b[1;32m-> 1289\u001b[0m mapped \u001b[38;5;241m=\u001b[39m obj\u001b[38;5;241m.\u001b[39m_map_values(\n\u001b[0;32m   1290\u001b[0m     mapper\u001b[38;5;241m=\u001b[39mcurried, na_action\u001b[38;5;241m=\u001b[39maction, convert\u001b[38;5;241m=\u001b[39m\u001b[38;5;28mself\u001b[39m\u001b[38;5;241m.\u001b[39mconvert_dtype\n\u001b[0;32m   1291\u001b[0m )\n\u001b[0;32m   1293\u001b[0m \u001b[38;5;28;01mif\u001b[39;00m \u001b[38;5;28mlen\u001b[39m(mapped) \u001b[38;5;129;01mand\u001b[39;00m \u001b[38;5;28misinstance\u001b[39m(mapped[\u001b[38;5;241m0\u001b[39m], ABCSeries):\n\u001b[0;32m   1294\u001b[0m     \u001b[38;5;66;03m# GH#43986 Need to do list(mapped) in order to get treated as nested\u001b[39;00m\n\u001b[0;32m   1295\u001b[0m     \u001b[38;5;66;03m#  See also GH#25959 regarding EA support\u001b[39;00m\n\u001b[0;32m   1296\u001b[0m     \u001b[38;5;28;01mreturn\u001b[39;00m obj\u001b[38;5;241m.\u001b[39m_constructor_expanddim(\u001b[38;5;28mlist\u001b[39m(mapped), index\u001b[38;5;241m=\u001b[39mobj\u001b[38;5;241m.\u001b[39mindex)\n",
            "File \u001b[1;32mc:\\Users\\Naura Rania\\anaconda3\\Lib\\site-packages\\pandas\\core\\base.py:921\u001b[0m, in \u001b[0;36mIndexOpsMixin._map_values\u001b[1;34m(self, mapper, na_action, convert)\u001b[0m\n\u001b[0;32m    918\u001b[0m \u001b[38;5;28;01mif\u001b[39;00m \u001b[38;5;28misinstance\u001b[39m(arr, ExtensionArray):\n\u001b[0;32m    919\u001b[0m     \u001b[38;5;28;01mreturn\u001b[39;00m arr\u001b[38;5;241m.\u001b[39mmap(mapper, na_action\u001b[38;5;241m=\u001b[39mna_action)\n\u001b[1;32m--> 921\u001b[0m \u001b[38;5;28;01mreturn\u001b[39;00m algorithms\u001b[38;5;241m.\u001b[39mmap_array(arr, mapper, na_action\u001b[38;5;241m=\u001b[39mna_action, convert\u001b[38;5;241m=\u001b[39mconvert)\n",
            "File \u001b[1;32mc:\\Users\\Naura Rania\\anaconda3\\Lib\\site-packages\\pandas\\core\\algorithms.py:1814\u001b[0m, in \u001b[0;36mmap_array\u001b[1;34m(arr, mapper, na_action, convert)\u001b[0m\n\u001b[0;32m   1812\u001b[0m values \u001b[38;5;241m=\u001b[39m arr\u001b[38;5;241m.\u001b[39mastype(\u001b[38;5;28mobject\u001b[39m, copy\u001b[38;5;241m=\u001b[39m\u001b[38;5;28;01mFalse\u001b[39;00m)\n\u001b[0;32m   1813\u001b[0m \u001b[38;5;28;01mif\u001b[39;00m na_action \u001b[38;5;129;01mis\u001b[39;00m \u001b[38;5;28;01mNone\u001b[39;00m:\n\u001b[1;32m-> 1814\u001b[0m     \u001b[38;5;28;01mreturn\u001b[39;00m lib\u001b[38;5;241m.\u001b[39mmap_infer(values, mapper, convert\u001b[38;5;241m=\u001b[39mconvert)\n\u001b[0;32m   1815\u001b[0m \u001b[38;5;28;01melse\u001b[39;00m:\n\u001b[0;32m   1816\u001b[0m     \u001b[38;5;28;01mreturn\u001b[39;00m lib\u001b[38;5;241m.\u001b[39mmap_infer_mask(\n\u001b[0;32m   1817\u001b[0m         values, mapper, mask\u001b[38;5;241m=\u001b[39misna(values)\u001b[38;5;241m.\u001b[39mview(np\u001b[38;5;241m.\u001b[39muint8), convert\u001b[38;5;241m=\u001b[39mconvert\n\u001b[0;32m   1818\u001b[0m     )\n",
            "File \u001b[1;32mlib.pyx:2926\u001b[0m, in \u001b[0;36mpandas._libs.lib.map_infer\u001b[1;34m()\u001b[0m\n",
            "Cell \u001b[1;32mIn[33], line 41\u001b[0m, in \u001b[0;36msastrawi\u001b[1;34m(text)\u001b[0m\n\u001b[0;32m     38\u001b[0m stemmer \u001b[38;5;241m=\u001b[39m factory\u001b[38;5;241m.\u001b[39mcreate_stemmer()\n\u001b[0;32m     40\u001b[0m \u001b[38;5;66;03m# Melakukan stemming pada teks\u001b[39;00m\n\u001b[1;32m---> 41\u001b[0m text \u001b[38;5;241m=\u001b[39m stemmer\u001b[38;5;241m.\u001b[39mstem(text)\n\u001b[0;32m     43\u001b[0m \u001b[38;5;28;01mreturn\u001b[39;00m text\n",
            "File \u001b[1;32mc:\\Users\\Naura Rania\\anaconda3\\Lib\\site-packages\\Sastrawi\\Stemmer\\CachedStemmer.py:20\u001b[0m, in \u001b[0;36mCachedStemmer.stem\u001b[1;34m(self, text)\u001b[0m\n\u001b[0;32m     18\u001b[0m     stems\u001b[38;5;241m.\u001b[39mappend(\u001b[38;5;28mself\u001b[39m\u001b[38;5;241m.\u001b[39mcache\u001b[38;5;241m.\u001b[39mget(word))\n\u001b[0;32m     19\u001b[0m \u001b[38;5;28;01melse\u001b[39;00m:\n\u001b[1;32m---> 20\u001b[0m     stem \u001b[38;5;241m=\u001b[39m \u001b[38;5;28mself\u001b[39m\u001b[38;5;241m.\u001b[39mdelegatedStemmer\u001b[38;5;241m.\u001b[39mstem(word)\n\u001b[0;32m     21\u001b[0m     \u001b[38;5;28mself\u001b[39m\u001b[38;5;241m.\u001b[39mcache\u001b[38;5;241m.\u001b[39mset(word, stem)\n\u001b[0;32m     22\u001b[0m     stems\u001b[38;5;241m.\u001b[39mappend(stem)\n",
            "File \u001b[1;32mc:\\Users\\Naura Rania\\anaconda3\\Lib\\site-packages\\Sastrawi\\Stemmer\\Stemmer.py:27\u001b[0m, in \u001b[0;36mStemmer.stem\u001b[1;34m(self, text)\u001b[0m\n\u001b[0;32m     24\u001b[0m stems \u001b[38;5;241m=\u001b[39m []\n\u001b[0;32m     26\u001b[0m \u001b[38;5;28;01mfor\u001b[39;00m word \u001b[38;5;129;01min\u001b[39;00m words:\n\u001b[1;32m---> 27\u001b[0m     stems\u001b[38;5;241m.\u001b[39mappend(\u001b[38;5;28mself\u001b[39m\u001b[38;5;241m.\u001b[39mstem_word(word))\n\u001b[0;32m     29\u001b[0m \u001b[38;5;28;01mreturn\u001b[39;00m \u001b[38;5;124m'\u001b[39m\u001b[38;5;124m \u001b[39m\u001b[38;5;124m'\u001b[39m\u001b[38;5;241m.\u001b[39mjoin(stems)\n",
            "File \u001b[1;32mc:\\Users\\Naura Rania\\anaconda3\\Lib\\site-packages\\Sastrawi\\Stemmer\\Stemmer.py:36\u001b[0m, in \u001b[0;36mStemmer.stem_word\u001b[1;34m(self, word)\u001b[0m\n\u001b[0;32m     34\u001b[0m     \u001b[38;5;28;01mreturn\u001b[39;00m \u001b[38;5;28mself\u001b[39m\u001b[38;5;241m.\u001b[39mstem_plural_word(word)\n\u001b[0;32m     35\u001b[0m \u001b[38;5;28;01melse\u001b[39;00m:\n\u001b[1;32m---> 36\u001b[0m     \u001b[38;5;28;01mreturn\u001b[39;00m \u001b[38;5;28mself\u001b[39m\u001b[38;5;241m.\u001b[39mstem_singular_word(word)\n",
            "File \u001b[1;32mc:\\Users\\Naura Rania\\anaconda3\\Lib\\site-packages\\Sastrawi\\Stemmer\\Stemmer.py:84\u001b[0m, in \u001b[0;36mStemmer.stem_singular_word\u001b[1;34m(self, word)\u001b[0m\n\u001b[0;32m     82\u001b[0m \u001b[38;5;250m\u001b[39m\u001b[38;5;124;03m\"\"\"Stem a singular word to its common stem form.\"\"\"\u001b[39;00m\n\u001b[0;32m     83\u001b[0m context \u001b[38;5;241m=\u001b[39m Context(word, \u001b[38;5;28mself\u001b[39m\u001b[38;5;241m.\u001b[39mdictionary, \u001b[38;5;28mself\u001b[39m\u001b[38;5;241m.\u001b[39mvisitor_provider)\n\u001b[1;32m---> 84\u001b[0m context\u001b[38;5;241m.\u001b[39mexecute()\n\u001b[0;32m     86\u001b[0m \u001b[38;5;28;01mreturn\u001b[39;00m context\u001b[38;5;241m.\u001b[39mresult\n",
            "File \u001b[1;32mc:\\Users\\Naura Rania\\anaconda3\\Lib\\site-packages\\Sastrawi\\Stemmer\\Context\\Context.py:37\u001b[0m, in \u001b[0;36mContext.execute\u001b[1;34m(self)\u001b[0m\n\u001b[0;32m     34\u001b[0m \u001b[38;5;250m\u001b[39m\u001b[38;5;124;03m\"\"\"Execute stemming process; the result can be retrieved with result\"\"\"\u001b[39;00m\n\u001b[0;32m     36\u001b[0m \u001b[38;5;66;03m#step 1 - 5\u001b[39;00m\n\u001b[1;32m---> 37\u001b[0m \u001b[38;5;28mself\u001b[39m\u001b[38;5;241m.\u001b[39mstart_stemming_process()\n\u001b[0;32m     39\u001b[0m \u001b[38;5;66;03m#step 6\u001b[39;00m\n\u001b[0;32m     40\u001b[0m \u001b[38;5;28;01mif\u001b[39;00m \u001b[38;5;28mself\u001b[39m\u001b[38;5;241m.\u001b[39mdictionary\u001b[38;5;241m.\u001b[39mcontains(\u001b[38;5;28mself\u001b[39m\u001b[38;5;241m.\u001b[39mcurrent_word):\n",
            "File \u001b[1;32mc:\\Users\\Naura Rania\\anaconda3\\Lib\\site-packages\\Sastrawi\\Stemmer\\Context\\Context.py:85\u001b[0m, in \u001b[0;36mContext.start_stemming_process\u001b[1;34m(self)\u001b[0m\n\u001b[0;32m     82\u001b[0m     \u001b[38;5;28;01mreturn\u001b[39;00m\n\u001b[0;32m     84\u001b[0m \u001b[38;5;66;03m#ECS loop pengembalian akhiran\u001b[39;00m\n\u001b[1;32m---> 85\u001b[0m \u001b[38;5;28mself\u001b[39m\u001b[38;5;241m.\u001b[39mloop_pengembalian_akhiran()\n",
            "File \u001b[1;32mc:\\Users\\Naura Rania\\anaconda3\\Lib\\site-packages\\Sastrawi\\Stemmer\\Context\\Context.py:141\u001b[0m, in \u001b[0;36mContext.loop_pengembalian_akhiran\u001b[1;34m(self)\u001b[0m\n\u001b[0;32m    138\u001b[0m     \u001b[38;5;28mself\u001b[39m\u001b[38;5;241m.\u001b[39mcurrent_word \u001b[38;5;241m=\u001b[39m removal\u001b[38;5;241m.\u001b[39mget_subject()\n\u001b[0;32m    140\u001b[0m \u001b[38;5;66;03m#step 4,5\u001b[39;00m\n\u001b[1;32m--> 141\u001b[0m \u001b[38;5;28mself\u001b[39m\u001b[38;5;241m.\u001b[39mremove_prefixes()\n\u001b[0;32m    142\u001b[0m \u001b[38;5;28;01mif\u001b[39;00m \u001b[38;5;28mself\u001b[39m\u001b[38;5;241m.\u001b[39mdictionary\u001b[38;5;241m.\u001b[39mcontains(\u001b[38;5;28mself\u001b[39m\u001b[38;5;241m.\u001b[39mcurrent_word):\n\u001b[0;32m    143\u001b[0m     \u001b[38;5;28;01mreturn\u001b[39;00m\n",
            "File \u001b[1;32mc:\\Users\\Naura Rania\\anaconda3\\Lib\\site-packages\\Sastrawi\\Stemmer\\Context\\Context.py:89\u001b[0m, in \u001b[0;36mContext.remove_prefixes\u001b[1;34m(self)\u001b[0m\n\u001b[0;32m     87\u001b[0m \u001b[38;5;28;01mdef\u001b[39;00m \u001b[38;5;21mremove_prefixes\u001b[39m(\u001b[38;5;28mself\u001b[39m):\n\u001b[0;32m     88\u001b[0m     \u001b[38;5;28;01mfor\u001b[39;00m i \u001b[38;5;129;01min\u001b[39;00m \u001b[38;5;28mrange\u001b[39m(\u001b[38;5;241m3\u001b[39m):\n\u001b[1;32m---> 89\u001b[0m         \u001b[38;5;28mself\u001b[39m\u001b[38;5;241m.\u001b[39maccept_prefix_visitors(\u001b[38;5;28mself\u001b[39m\u001b[38;5;241m.\u001b[39mprefix_pisitors)\n\u001b[0;32m     90\u001b[0m         \u001b[38;5;28;01mif\u001b[39;00m \u001b[38;5;28mself\u001b[39m\u001b[38;5;241m.\u001b[39mdictionary\u001b[38;5;241m.\u001b[39mcontains(\u001b[38;5;28mself\u001b[39m\u001b[38;5;241m.\u001b[39mcurrent_word):\n\u001b[0;32m     91\u001b[0m             \u001b[38;5;28;01mreturn\u001b[39;00m\n",
            "File \u001b[1;32mc:\\Users\\Naura Rania\\anaconda3\\Lib\\site-packages\\Sastrawi\\Stemmer\\Context\\Context.py:111\u001b[0m, in \u001b[0;36mContext.accept_prefix_visitors\u001b[1;34m(self, visitors)\u001b[0m\n\u001b[0;32m    109\u001b[0m \u001b[38;5;28;01mfor\u001b[39;00m visitor \u001b[38;5;129;01min\u001b[39;00m visitors:\n\u001b[0;32m    110\u001b[0m     \u001b[38;5;28mself\u001b[39m\u001b[38;5;241m.\u001b[39maccept(visitor)\n\u001b[1;32m--> 111\u001b[0m     \u001b[38;5;28;01mif\u001b[39;00m \u001b[38;5;28mself\u001b[39m\u001b[38;5;241m.\u001b[39mdictionary\u001b[38;5;241m.\u001b[39mcontains(\u001b[38;5;28mself\u001b[39m\u001b[38;5;241m.\u001b[39mcurrent_word):\n\u001b[0;32m    112\u001b[0m         \u001b[38;5;28;01mreturn\u001b[39;00m \u001b[38;5;28mself\u001b[39m\u001b[38;5;241m.\u001b[39mcurrent_word\n\u001b[0;32m    113\u001b[0m     \u001b[38;5;28;01mif\u001b[39;00m \u001b[38;5;28mself\u001b[39m\u001b[38;5;241m.\u001b[39mprocess_is_stopped:\n",
            "File \u001b[1;32mc:\\Users\\Naura Rania\\anaconda3\\Lib\\site-packages\\Sastrawi\\Dictionary\\ArrayDictionary.py:9\u001b[0m, in \u001b[0;36mArrayDictionary.contains\u001b[1;34m(self, word)\u001b[0m\n\u001b[0;32m      6\u001b[0m     \u001b[38;5;28;01mif\u001b[39;00m words:\n\u001b[0;32m      7\u001b[0m         \u001b[38;5;28mself\u001b[39m\u001b[38;5;241m.\u001b[39madd_words(words)\n\u001b[1;32m----> 9\u001b[0m \u001b[38;5;28;01mdef\u001b[39;00m \u001b[38;5;21mcontains\u001b[39m(\u001b[38;5;28mself\u001b[39m, word):\n\u001b[0;32m     10\u001b[0m     \u001b[38;5;28;01mreturn\u001b[39;00m word \u001b[38;5;129;01min\u001b[39;00m \u001b[38;5;28mself\u001b[39m\u001b[38;5;241m.\u001b[39mwords\n\u001b[0;32m     12\u001b[0m \u001b[38;5;28;01mdef\u001b[39;00m \u001b[38;5;21mcount\u001b[39m(\u001b[38;5;28mself\u001b[39m):\n",
            "\u001b[1;31mKeyboardInterrupt\u001b[0m: "
          ]
        }
      ],
      "source": [
        "data['content'] = data['content'].apply(sastrawi)"
      ]
    },
    {
      "cell_type": "code",
      "execution_count": 36,
      "metadata": {},
      "outputs": [],
      "source": [
        "data.to_excel('gojek2.xlsx')"
      ]
    },
    {
      "cell_type": "code",
      "execution_count": 37,
      "metadata": {},
      "outputs": [],
      "source": [
        "import pandas as pd\n",
        "data = pd.read_excel('gojek2.xlsx')"
      ]
    },
    {
      "cell_type": "code",
      "execution_count": 38,
      "metadata": {},
      "outputs": [
        {
          "data": {
            "text/plain": [
              "Unnamed: 0     0\n",
              "content       19\n",
              "score          0\n",
              "dtype: int64"
            ]
          },
          "execution_count": 38,
          "metadata": {},
          "output_type": "execute_result"
        }
      ],
      "source": [
        "data.isna().sum()"
      ]
    },
    {
      "cell_type": "code",
      "execution_count": 39,
      "metadata": {},
      "outputs": [],
      "source": [
        "data.dropna(inplace=True)"
      ]
    },
    {
      "cell_type": "code",
      "execution_count": 40,
      "metadata": {
        "colab": {
          "base_uri": "https://localhost:8080/",
          "height": 534
        },
        "id": "I-AIw3-urql4",
        "outputId": "e7927224-e231-4ca5-a7dd-32297258610f"
      },
      "outputs": [
        {
          "data": {
            "text/html": [
              "<div>\n",
              "<style scoped>\n",
              "    .dataframe tbody tr th:only-of-type {\n",
              "        vertical-align: middle;\n",
              "    }\n",
              "\n",
              "    .dataframe tbody tr th {\n",
              "        vertical-align: top;\n",
              "    }\n",
              "\n",
              "    .dataframe thead th {\n",
              "        text-align: right;\n",
              "    }\n",
              "</style>\n",
              "<table border=\"1\" class=\"dataframe\">\n",
              "  <thead>\n",
              "    <tr style=\"text-align: right;\">\n",
              "      <th></th>\n",
              "      <th>Unnamed: 0</th>\n",
              "      <th>content</th>\n",
              "      <th>score</th>\n",
              "    </tr>\n",
              "  </thead>\n",
              "  <tbody>\n",
              "    <tr>\n",
              "      <th>0</th>\n",
              "      <td>0</td>\n",
              "      <td>akun gopay saya di blok</td>\n",
              "      <td>0</td>\n",
              "    </tr>\n",
              "    <tr>\n",
              "      <th>1</th>\n",
              "      <td>1</td>\n",
              "      <td>lambat sekali sekarang ini bosssku aplikasi go...</td>\n",
              "      <td>0</td>\n",
              "    </tr>\n",
              "    <tr>\n",
              "      <th>2</th>\n",
              "      <td>2</td>\n",
              "      <td>kenapa sih dari kemarin saya buka aplikasi goj...</td>\n",
              "      <td>1</td>\n",
              "    </tr>\n",
              "    <tr>\n",
              "      <th>3</th>\n",
              "      <td>3</td>\n",
              "      <td>baru download gojek dan handphone baru terus d...</td>\n",
              "      <td>0</td>\n",
              "    </tr>\n",
              "    <tr>\n",
              "      <th>4</th>\n",
              "      <td>4</td>\n",
              "      <td>mantap</td>\n",
              "      <td>1</td>\n",
              "    </tr>\n",
              "    <tr>\n",
              "      <th>...</th>\n",
              "      <td>...</td>\n",
              "      <td>...</td>\n",
              "      <td>...</td>\n",
              "    </tr>\n",
              "    <tr>\n",
              "      <th>49997</th>\n",
              "      <td>49997</td>\n",
              "      <td>saya rubah dulu ratingnya karena setiap kali s...</td>\n",
              "      <td>0</td>\n",
              "    </tr>\n",
              "    <tr>\n",
              "      <th>49998</th>\n",
              "      <td>49998</td>\n",
              "      <td>suka dengan ketepatan waktu dan kondisi barang...</td>\n",
              "      <td>1</td>\n",
              "    </tr>\n",
              "    <tr>\n",
              "      <th>49999</th>\n",
              "      <td>49999</td>\n",
              "      <td>rada kecewa sama pembaruan yg sekarang saya bi...</td>\n",
              "      <td>0</td>\n",
              "    </tr>\n",
              "    <tr>\n",
              "      <th>50000</th>\n",
              "      <td>50000</td>\n",
              "      <td>semoga saling membantu</td>\n",
              "      <td>1</td>\n",
              "    </tr>\n",
              "    <tr>\n",
              "      <th>50001</th>\n",
              "      <td>50001</td>\n",
              "      <td>mudah dan tarif sesuai budget</td>\n",
              "      <td>1</td>\n",
              "    </tr>\n",
              "  </tbody>\n",
              "</table>\n",
              "<p>49983 rows × 3 columns</p>\n",
              "</div>"
            ],
            "text/plain": [
              "       Unnamed: 0                                            content  score\n",
              "0               0                            akun gopay saya di blok      0\n",
              "1               1  lambat sekali sekarang ini bosssku aplikasi go...      0\n",
              "2               2  kenapa sih dari kemarin saya buka aplikasi goj...      1\n",
              "3               3  baru download gojek dan handphone baru terus d...      0\n",
              "4               4                                             mantap      1\n",
              "...           ...                                                ...    ...\n",
              "49997       49997  saya rubah dulu ratingnya karena setiap kali s...      0\n",
              "49998       49998  suka dengan ketepatan waktu dan kondisi barang...      1\n",
              "49999       49999  rada kecewa sama pembaruan yg sekarang saya bi...      0\n",
              "50000       50000                             semoga saling membantu      1\n",
              "50001       50001                      mudah dan tarif sesuai budget      1\n",
              "\n",
              "[49983 rows x 3 columns]"
            ]
          },
          "execution_count": 40,
          "metadata": {},
          "output_type": "execute_result"
        }
      ],
      "source": [
        "# Untuk Score 5 dan 4 kita kategorikan sebagai nilai positif (1) dan untuk  3, 2, dan 1 dikategorikan sebagai negatif (0)\n",
        "\n",
        "data['score'] = data['score'].replace({5 : 1 , 4 : 1,  3 : 0, 2 : 0, 1 : 0})\n",
        "data"
      ]
    },
    {
      "cell_type": "code",
      "execution_count": 41,
      "metadata": {
        "id": "BDvUFJTdvrGU"
      },
      "outputs": [],
      "source": [
        "X = data['content']\n",
        "y = data['score']"
      ]
    },
    {
      "cell_type": "code",
      "execution_count": 42,
      "metadata": {},
      "outputs": [],
      "source": [
        "from sklearn.model_selection import ShuffleSplit\n",
        "from sklearn.datasets import load_iris\n",
        "from sklearn.ensemble import RandomForestClassifier\n",
        "from sklearn.metrics import accuracy_score\n",
        "# Membuat objek ShuffleSplit\n",
        "shufflesplit = ShuffleSplit(n_splits=5, test_size=0.2, random_state=0)\n",
        "\n",
        "# Loop melalui setiap split\n",
        "for train_index, test_index in shufflesplit.split(X):\n",
        "    X_train, X_test = X.iloc[train_index], X.iloc[test_index]\n",
        "    y_train, y_test = y.iloc[train_index], y.iloc[test_index]"
      ]
    },
    {
      "cell_type": "code",
      "execution_count": 43,
      "metadata": {},
      "outputs": [
        {
          "data": {
            "text/plain": [
              "(9997,)"
            ]
          },
          "execution_count": 43,
          "metadata": {},
          "output_type": "execute_result"
        }
      ],
      "source": [
        "X_test.shape"
      ]
    },
    {
      "cell_type": "code",
      "execution_count": 44,
      "metadata": {},
      "outputs": [
        {
          "name": "stdout",
          "output_type": "stream",
          "text": [
            "Hasil TF-IDF untuk data latih:\n",
            "Dokumen 1:\n",
            "Token: suka, TF-IDF: 0.4992213265230509\n",
            "Token: saya, TF-IDF: 0.4992213265230509\n",
            "Token: pembelajar, TF-IDF: 0.35520008546852583\n",
            "Token: mesin, TF-IDF: 0.35520008546852583\n",
            "Token: belajar, TF-IDF: 0.4992213265230509\n",
            "\n",
            "Dokumen 2:\n",
            "Token: sangat, TF-IDF: 0.5761523551647353\n",
            "Token: menarik, TF-IDF: 0.5761523551647353\n",
            "Token: pembelajar, TF-IDF: 0.40993714596036396\n",
            "Token: mesin, TF-IDF: 0.40993714596036396\n",
            "\n",
            "\n",
            "Hasil TF-IDF untuk data uji:\n",
            "Dokumen 1:\n",
            "Token: saya, TF-IDF: 0.5761523551647353\n",
            "Token: pembelajar, TF-IDF: 0.40993714596036396\n",
            "Token: mesin, TF-IDF: 0.40993714596036396\n",
            "Token: belajar, TF-IDF: 0.5761523551647353\n",
            "\n"
          ]
        }
      ],
      "source": [
        "from sklearn.feature_extraction.text import TfidfVectorizer\n",
        "\n",
        "# Sample documents\n",
        "train_documents = [\n",
        "    \"belajar mesin pembelajar saya suka\",\n",
        "    \"menarik mesin pembelajar sangat\",\n",
        "]\n",
        "\n",
        "test_documents = [\n",
        "    \"belajar mesin pembelajar saya\"\n",
        "]\n",
        "\n",
        "# Create the TF-IDF vectorizer\n",
        "vectorizer = TfidfVectorizer()\n",
        "\n",
        "# Fit and transform the training documents\n",
        "tfidf_train = vectorizer.fit_transform(train_documents)\n",
        "\n",
        "# Transform the test documents\n",
        "tfidf_test = vectorizer.transform(test_documents)\n",
        "\n",
        "# Function to display TF-IDF values\n",
        "def display_tfidf(tfidf, documents):\n",
        "    feature_names = vectorizer.get_feature_names_out()\n",
        "    for doc_idx, doc in enumerate(documents):\n",
        "        print(f\"Dokumen {doc_idx + 1}:\")\n",
        "        for word_idx in tfidf[doc_idx].nonzero()[1]:\n",
        "            print(f\"Token: {feature_names[word_idx]}, TF-IDF: {tfidf[doc_idx, word_idx]}\")\n",
        "        print()\n",
        "\n",
        "print(\"Hasil TF-IDF untuk data latih:\")\n",
        "display_tfidf(tfidf_train, train_documents)\n",
        "\n",
        "print(\"\\nHasil TF-IDF untuk data uji:\")\n",
        "display_tfidf(tfidf_test, test_documents)\n"
      ]
    },
    {
      "cell_type": "code",
      "execution_count": 45,
      "metadata": {
        "id": "ij3bReQOy6-W"
      },
      "outputs": [],
      "source": [
        "from sklearn.feature_extraction.text import TfidfVectorizer\n",
        "import numpy as np\n",
        "\n",
        "# Membuat objek TF-IDF Vectorizer\n",
        "vectorizer = TfidfVectorizer()\n",
        "\n",
        "# Melakukan fitting dan transformasi pada data\n",
        "X_vector_train = vectorizer.fit_transform(X_train)\n",
        "X_vector_test = vectorizer.transform(X_test)\n",
        "\n",
        "feature_names = vectorizer.get_feature_names_out()\n",
        "\n",
        "# Mengubah hasil transformasi ke dalam bentuk array untuk visualisasi\n",
        "X_vector_train_array = X_vector_train.toarray()\n",
        "X_vector_test_array = X_vector_test.toarray()"
      ]
    },
    {
      "cell_type": "code",
      "execution_count": 46,
      "metadata": {
        "colab": {
          "base_uri": "https://localhost:8080/",
          "height": 75
        },
        "id": "-EmDLeFPzxlU",
        "outputId": "eaa4c30b-a473-4e09-9fc1-8e88dedcff56"
      },
      "outputs": [
        {
          "data": {
            "text/html": [
              "<style>#sk-container-id-1 {color: black;background-color: white;}#sk-container-id-1 pre{padding: 0;}#sk-container-id-1 div.sk-toggleable {background-color: white;}#sk-container-id-1 label.sk-toggleable__label {cursor: pointer;display: block;width: 100%;margin-bottom: 0;padding: 0.3em;box-sizing: border-box;text-align: center;}#sk-container-id-1 label.sk-toggleable__label-arrow:before {content: \"▸\";float: left;margin-right: 0.25em;color: #696969;}#sk-container-id-1 label.sk-toggleable__label-arrow:hover:before {color: black;}#sk-container-id-1 div.sk-estimator:hover label.sk-toggleable__label-arrow:before {color: black;}#sk-container-id-1 div.sk-toggleable__content {max-height: 0;max-width: 0;overflow: hidden;text-align: left;background-color: #f0f8ff;}#sk-container-id-1 div.sk-toggleable__content pre {margin: 0.2em;color: black;border-radius: 0.25em;background-color: #f0f8ff;}#sk-container-id-1 input.sk-toggleable__control:checked~div.sk-toggleable__content {max-height: 200px;max-width: 100%;overflow: auto;}#sk-container-id-1 input.sk-toggleable__control:checked~label.sk-toggleable__label-arrow:before {content: \"▾\";}#sk-container-id-1 div.sk-estimator input.sk-toggleable__control:checked~label.sk-toggleable__label {background-color: #d4ebff;}#sk-container-id-1 div.sk-label input.sk-toggleable__control:checked~label.sk-toggleable__label {background-color: #d4ebff;}#sk-container-id-1 input.sk-hidden--visually {border: 0;clip: rect(1px 1px 1px 1px);clip: rect(1px, 1px, 1px, 1px);height: 1px;margin: -1px;overflow: hidden;padding: 0;position: absolute;width: 1px;}#sk-container-id-1 div.sk-estimator {font-family: monospace;background-color: #f0f8ff;border: 1px dotted black;border-radius: 0.25em;box-sizing: border-box;margin-bottom: 0.5em;}#sk-container-id-1 div.sk-estimator:hover {background-color: #d4ebff;}#sk-container-id-1 div.sk-parallel-item::after {content: \"\";width: 100%;border-bottom: 1px solid gray;flex-grow: 1;}#sk-container-id-1 div.sk-label:hover label.sk-toggleable__label {background-color: #d4ebff;}#sk-container-id-1 div.sk-serial::before {content: \"\";position: absolute;border-left: 1px solid gray;box-sizing: border-box;top: 0;bottom: 0;left: 50%;z-index: 0;}#sk-container-id-1 div.sk-serial {display: flex;flex-direction: column;align-items: center;background-color: white;padding-right: 0.2em;padding-left: 0.2em;position: relative;}#sk-container-id-1 div.sk-item {position: relative;z-index: 1;}#sk-container-id-1 div.sk-parallel {display: flex;align-items: stretch;justify-content: center;background-color: white;position: relative;}#sk-container-id-1 div.sk-item::before, #sk-container-id-1 div.sk-parallel-item::before {content: \"\";position: absolute;border-left: 1px solid gray;box-sizing: border-box;top: 0;bottom: 0;left: 50%;z-index: -1;}#sk-container-id-1 div.sk-parallel-item {display: flex;flex-direction: column;z-index: 1;position: relative;background-color: white;}#sk-container-id-1 div.sk-parallel-item:first-child::after {align-self: flex-end;width: 50%;}#sk-container-id-1 div.sk-parallel-item:last-child::after {align-self: flex-start;width: 50%;}#sk-container-id-1 div.sk-parallel-item:only-child::after {width: 0;}#sk-container-id-1 div.sk-dashed-wrapped {border: 1px dashed gray;margin: 0 0.4em 0.5em 0.4em;box-sizing: border-box;padding-bottom: 0.4em;background-color: white;}#sk-container-id-1 div.sk-label label {font-family: monospace;font-weight: bold;display: inline-block;line-height: 1.2em;}#sk-container-id-1 div.sk-label-container {text-align: center;}#sk-container-id-1 div.sk-container {/* jupyter's `normalize.less` sets `[hidden] { display: none; }` but bootstrap.min.css set `[hidden] { display: none !important; }` so we also need the `!important` here to be able to override the default hidden behavior on the sphinx rendered scikit-learn.org. See: https://github.com/scikit-learn/scikit-learn/issues/21755 */display: inline-block !important;position: relative;}#sk-container-id-1 div.sk-text-repr-fallback {display: none;}</style><div id=\"sk-container-id-1\" class=\"sk-top-container\"><div class=\"sk-text-repr-fallback\"><pre>RandomForestClassifier()</pre><b>In a Jupyter environment, please rerun this cell to show the HTML representation or trust the notebook. <br />On GitHub, the HTML representation is unable to render, please try loading this page with nbviewer.org.</b></div><div class=\"sk-container\" hidden><div class=\"sk-item\"><div class=\"sk-estimator sk-toggleable\"><input class=\"sk-toggleable__control sk-hidden--visually\" id=\"sk-estimator-id-1\" type=\"checkbox\" checked><label for=\"sk-estimator-id-1\" class=\"sk-toggleable__label sk-toggleable__label-arrow\">RandomForestClassifier</label><div class=\"sk-toggleable__content\"><pre>RandomForestClassifier()</pre></div></div></div></div></div>"
            ],
            "text/plain": [
              "RandomForestClassifier()"
            ]
          },
          "execution_count": 46,
          "metadata": {},
          "output_type": "execute_result"
        }
      ],
      "source": [
        "from sklearn.ensemble import RandomForestClassifier\n",
        "\n",
        "model = RandomForestClassifier()\n",
        "\n",
        "model.fit(X_vector_train, y_train) \n"
      ]
    },
    {
      "cell_type": "code",
      "execution_count": 47,
      "metadata": {
        "colab": {
          "base_uri": "https://localhost:8080/"
        },
        "id": "qiCOUQ-l07-X",
        "outputId": "030deb86-2e38-4cab-99c2-1b7ee2cfb909"
      },
      "outputs": [
        {
          "data": {
            "text/plain": [
              "0.9028708612583776"
            ]
          },
          "execution_count": 47,
          "metadata": {},
          "output_type": "execute_result"
        }
      ],
      "source": [
        "from sklearn.metrics import accuracy_score, confusion_matrix, classification_report\n",
        "\n",
        "y_pred = model.predict(X_vector_test)\n",
        "\n",
        "accuracy_score(y_test, y_pred)"
      ]
    },
    {
      "cell_type": "code",
      "execution_count": 48,
      "metadata": {},
      "outputs": [
        {
          "name": "stdout",
          "output_type": "stream",
          "text": [
            "              precision    recall  f1-score   support\n",
            "\n",
            "           0       0.84      0.91      0.87      3630\n",
            "           1       0.95      0.90      0.92      6367\n",
            "\n",
            "    accuracy                           0.90      9997\n",
            "   macro avg       0.89      0.90      0.90      9997\n",
            "weighted avg       0.91      0.90      0.90      9997\n",
            "\n"
          ]
        }
      ],
      "source": [
        "from sklearn.metrics import classification_report\n",
        "\n",
        "# Print classification report\n",
        "report = classification_report(y_test, y_pred)\n",
        "print(report)"
      ]
    },
    {
      "cell_type": "code",
      "execution_count": 49,
      "metadata": {},
      "outputs": [
        {
          "data": {
            "image/png": "[encoded data removed]",
            "text/plain": [
              "<Figure size 1000x700 with 2 Axes>"
            ]
          },
          "metadata": {},
          "output_type": "display_data"
        }
      ],
      "source": [
        "from sklearn.metrics import confusion_matrix\n",
        "import matplotlib.pyplot as plt\n",
        "import seaborn as sns\n",
        "import numpy as np\n",
        "\n",
        "# Hitung confusion matrix\n",
        "cm = confusion_matrix(y_test, y_pred)\n",
        "\n",
        "# Ekstrak nilai FN, FP, TP, dan TN\n",
        "TN, FP, FN, TP = cm.ravel()\n",
        "\n",
        "# Tampilkan confusion matrix dengan heatmap\n",
        "plt.figure(figsize=(10,7))\n",
        "sns.heatmap(cm, annot=True, fmt='g', cmap='Blues')\n",
        "\n",
        "# Tambahkan label untuk FN dan TP dengan warna putih\n",
        "for i, j, val in [(1, 0, FN), (1, 1, TP)]:\n",
        "    plt.text(j+0.5, i+0.5, f'{val}', ha='center', va='center', color='black', fontsize=12)\n",
        "\n",
        "plt.xlabel('Predicted')\n",
        "plt.ylabel('Actual')\n",
        "plt.title('Confusion Matrix with Heatmap')\n",
        "plt.show()"
      ]
    },
    {
      "cell_type": "code",
      "execution_count": 50,
      "metadata": {},
      "outputs": [
        {
          "data": {
            "image/png": "[encoded data removed]",
            "text/plain": [
              "<Figure size 1000x700 with 2 Axes>"
            ]
          },
          "metadata": {},
          "output_type": "display_data"
        }
      ],
      "source": [
        "cm = confusion_matrix(y_test, y_pred)\n",
        "\n",
        "plt.figure(figsize=(10,7))\n",
        "sns.heatmap(cm, annot=True, fmt='d', cmap='Blues')\n",
        "plt.xlabel('Predicted')\n",
        "plt.ylabel('Actual')\n",
        "plt.title('Confusion Matrix with Heatmap')\n",
        "plt.show()"
      ]
    },
    {
      "cell_type": "code",
      "execution_count": 51,
      "metadata": {},
      "outputs": [
        {
          "name": "stdout",
          "output_type": "stream",
          "text": [
            "Fitting 5 folds for each of 324 candidates, totalling 1620 fits\n"
          ]
        }
      ],
      "source": [
        "from sklearn.model_selection import GridSearchCV\n",
        "from sklearn.datasets import load_iris\n",
        "from sklearn.ensemble import RandomForestClassifier\n",
        "from sklearn.metrics import accuracy_score\n",
        "\n",
        "# Membuat model RandomForestClassifier\n",
        "model = RandomForestClassifier()\n",
        "\n",
        "# Menentukan parameter grid untuk pencarian\n",
        "param_grid = {\n",
        "    'n_estimators': [50, 100, 200],\n",
        "    'max_depth': [None, 10, 20, 30],\n",
        "    'min_samples_split': [2, 5, 10],\n",
        "    'min_samples_leaf': [1, 2, 4],\n",
        "    'max_features': ['auto', 'sqrt', 'log2']\n",
        "}\n",
        "\n",
        "# Membuat objek GridSearchCV\n",
        "grid_search = GridSearchCV(estimator=model, param_grid=param_grid, cv=5, n_jobs=-1, verbose=2)\n",
        "\n",
        "# Melatih GridSearchCV\n",
        "grid_search.fit(X_vector_train, y_train)\n",
        "\n",
        "# Mencetak parameter terbaik\n",
        "print(\"Best parameters found: \", grid_search.best_params_)\n",
        "\n",
        "# Mencetak akurasi terbaik\n",
        "print(\"Best cross-validation accuracy: {:.2f}\".format(grid_search.best_score_))\n",
        "\n",
        "# Menggunakan model terbaik untuk prediksi\n",
        "best_model = grid_search.best_estimator_\n",
        "y_pred = best_model.predict(X_vector_test)\n",
        "accuracy = accuracy_score(y_test, y_pred)\n",
        "print(f'Akurasi model terbaik pada data pelatihan: {accuracy:.2f}')\n"
      ]
    },
    {
      "cell_type": "code",
      "execution_count": 18,
      "metadata": {},
      "outputs": [
        {
          "data": {
            "text/plain": [
              "['gojek_model.joblib']"
            ]
          },
          "execution_count": 18,
          "metadata": {},
          "output_type": "execute_result"
        }
      ],
      "source": [
        "import joblib\n",
        "\n",
        "# Save the model\n",
        "joblib.dump(best_model, 'gojek_model.joblib')"
      ]
    },
    {
      "cell_type": "code",
      "execution_count": 19,
      "metadata": {},
      "outputs": [
        {
          "data": {
            "text/plain": [
              "['gojek_vectorizer.joblib']"
            ]
          },
          "execution_count": 19,
          "metadata": {},
          "output_type": "execute_result"
        }
      ],
      "source": [
        "joblib.dump(vectorizer, 'gojek_vectorizer.joblib')"
      ]
    },
    {
      "cell_type": "code",
      "execution_count": 3,
      "metadata": {
        "colab": {
          "base_uri": "https://localhost:8080/"
        },
        "id": "uwpuOMZq2kCY",
        "outputId": "e4e5d405-90ee-40b0-e527-c4c4b3cf1149"
      },
      "outputs": [
        {
          "name": "stdout",
          "output_type": "stream",
          "text": [
            "sentimen positif\n"
          ]
        }
      ],
      "source": [
        "import pandas as pd\n",
        "import numpy as np\n",
        "import joblib\n",
        "import Sastrawi\n",
        "from Sastrawi.StopWordRemover.StopWordRemoverFactory import StopWordRemoverFactory\n",
        "from Sastrawi.Stemmer.StemmerFactory import StemmerFactory\n",
        "import os\n",
        "import re\n",
        "\n",
        "loaded_model = joblib.load('gojek_model.joblib')\n",
        "loaded_vector = joblib.load('gojek_vectorizer.joblib')\n",
        "\n",
        "def wardrop(text):\n",
        "\n",
        "    text = text.lower()\n",
        "\n",
        "    url_pattern = re.compile(r'\\b(?:https?|ftp|file):\\/\\/[-A-Z0-9+&@#\\/%?=~_|!:,.;]*[-A-Z0-9+&@#\\/%=~_|]|\\bwww\\.[-A-Z0-9+&@#\\/%?=~_|!:,.;]*[-A-Z0-9+&@#\\/%=~_|]', re.IGNORECASE)\n",
        "    text = re.sub(url_pattern, '', text)\n",
        "\n",
        "    html_tag_pattern = re.compile(r'<[^>]+>')\n",
        "    text = re.sub(html_tag_pattern, '', text)\n",
        "\n",
        "    text = re.sub(r'[^\\w\\s]', '', text)\n",
        "    text = re.sub(r'\\d', '', text)\n",
        "    text = re.sub(r'\\n', ' ', text)\n",
        "\n",
        "    extra_spaces_pattern = re.compile(r'\\s+')\n",
        "    text = re.sub(extra_spaces_pattern, ' ', text)\n",
        "\n",
        "    return text\n",
        "\n",
        "def sastrawi(text):\n",
        "    # Membuat instance dari StopWordRemover\n",
        "    factory = StopWordRemoverFactory()\n",
        "    stopword_remover = factory.create_stop_word_remover()\n",
        "\n",
        "    # Menghapus stopword dari teks\n",
        "    text = stopword_remover.remove(text)\n",
        "\n",
        "    factory = StemmerFactory()\n",
        "    stemmer = factory.create_stemmer()\n",
        "\n",
        "    # Melakukan stemming pada teks\n",
        "    text = stemmer.stem(text)\n",
        "\n",
        "    return text\n",
        "\n",
        "def manual_testing(news):\n",
        "\n",
        "    testing_news = {'text' : [news]}\n",
        "    new_df_test = pd.DataFrame(testing_news)\n",
        "    new_df_test['text'] = new_df_test['text'].apply(wardrop)\n",
        "    new_df_test['text'] = new_df_test['text'].apply(sastrawi)\n",
        "    new_x_test = new_df_test['text']\n",
        "    new_xv_test = loaded_vector.transform(new_x_test)\n",
        "\n",
        "\n",
        "    pred = loaded_model.predict(new_xv_test)\n",
        "    if pred[0] == 1:\n",
        "        pred = \"sentimen positif\"\n",
        "    else :\n",
        "        pred = \"sentimen negatif\"\n",
        "\n",
        "    \n",
        "    return pred\n",
        "\n",
        "news = input(str(''))\n",
        "hasil = manual_testing(news)\n",
        "\n",
        "print(hasil)"
      ]
    }
  ],
  "metadata": {
    "colab": {
      "provenance": []
    },
    "kernelspec": {
      "display_name": "Python 3",
      "name": "python3"
    },
    "language_info": {
      "codemirror_mode": {
        "name": "ipython",
        "version": 3
      },
      "file_extension": ".py",
      "mimetype": "text/x-python",
      "name": "python",
      "nbconvert_exporter": "python",
      "pygments_lexer": "ipython3",
      "version": "3.11.7"
    }
  },
  "nbformat": 4,
  "nbformat_minor": 0
}
